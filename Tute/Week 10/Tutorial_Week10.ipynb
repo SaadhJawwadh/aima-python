{
 "cells": [
  {
   "cell_type": "markdown",
   "metadata": {},
   "source": [
    "# Tutorial week 10 - Deep Learning and Convolutional Neural Networks (CNNs)"
   ]
  },
  {
   "cell_type": "markdown",
   "metadata": {},
   "source": [
    "#### Run the provided code and answer the questions.\n",
    "\n",
    "#### Note: Perform the steps described in 6COSC020W_TutorialWeek8.pdf (Week 8) if you have issues with TensorFlow.\n",
    "#### 1) Download the Cifar10 dataset. This tutorial uses the test set as a validation set. Ideally we would have another independent set to test the final accuracy."
   ]
  },
  {
   "cell_type": "code",
   "execution_count": null,
   "metadata": {},
   "outputs": [],
   "source": [
    "import tensorflow as tf\n",
    "import matplotlib.pyplot as plt\n",
    "import numpy as np\n",
    "import pathlib\n",
    "import PIL\n",
    "import seaborn as sns\n",
    "\n",
    "seed = 123 # to ensure we always get the same results\n",
    "np.random.seed(seed) # to ensure we always get the same results\n",
    "tf.keras.utils.set_random_seed(seed) # to ensure we always get the same results\n",
    "\n",
    "(train_images, train_labels), (test_images, test_labels) = tf.keras.datasets.cifar10.load_data()\n",
    "\n",
    "train_labels = np.array(train_labels).transpose()[0] # convert from a column to row\n",
    "test_labels = np.array(test_labels).transpose()[0] # convert from a column to row\n",
    "\n",
    "#normalisation\n",
    "train_images, test_images = train_images / 255.0, test_images / 255.0 # all values between 0 and 1 to improve performance\n",
    "\n",
    "class_names = ['airplane', 'automobile', 'bird', 'cat', 'deer', 'dog', 'frog', 'horse', 'ship', 'truck']\n",
    "\n",
    "plt.figure(figsize=(3, 3))\n",
    "plt.imshow(train_images[0])\n",
    "plt.title((\"Label: \" + str(class_names[train_labels[0]])) + \" [\" + str(train_labels[0]) +\"]\")\n",
    "plt.colorbar()\n",
    "plt.grid(False)\n",
    "plt.show()\n"
   ]
  },
  {
   "cell_type": "markdown",
   "metadata": {},
   "source": [
    "#### 2) Images in the training and validation sets:"
   ]
  },
  {
   "cell_type": "code",
   "execution_count": null,
   "metadata": {},
   "outputs": [],
   "source": [
    "print('Number of images in training: ' + str(len(train_images)))\n",
    "print('Number of images in testing: ' + str(len(test_images)))\n"
   ]
  },
  {
   "cell_type": "markdown",
   "metadata": {},
   "source": [
    "#### 3) Images for each class in the training set:"
   ]
  },
  {
   "cell_type": "code",
   "execution_count": null,
   "metadata": {},
   "outputs": [],
   "source": [
    "for i in range(len(class_names)):\n",
    "    print(class_names[i] + ': ' + str(np.count_nonzero(train_labels == i)))\n"
   ]
  },
  {
   "cell_type": "markdown",
   "metadata": {},
   "source": [
    "#### **Question 1: Know your data. Is it a balanced or imbalanced dataset?**"
   ]
  },
  {
   "attachments": {},
   "cell_type": "markdown",
   "metadata": {},
   "source": [
    "YOUR ANSWER: Balanced"
   ]
  },
  {
   "cell_type": "markdown",
   "metadata": {},
   "source": [
    "#### 4) Display some images from the training dataset\n",
    "Images provided have a small resolution to make the training faster."
   ]
  },
  {
   "cell_type": "code",
   "execution_count": null,
   "metadata": {},
   "outputs": [],
   "source": [
    "plt.figure(figsize=(10,10))\n",
    "for i in range(25):\n",
    "    plt.subplot(5,5,i+1)\n",
    "    plt.xticks([])\n",
    "    plt.yticks([])\n",
    "    plt.grid(False)\n",
    "    plt.imshow(train_images[i], cmap=plt.cm.binary)\n",
    "    plt.xlabel(str(class_names[train_labels[i]]) + \" [\" + str(train_labels[i]) +\"]\")\n",
    "    \n",
    "plt.show()"
   ]
  },
  {
   "cell_type": "markdown",
   "metadata": {},
   "source": [
    "#### 5) We create a simple neural network with 3 convolutional layers, with max pooling and average pooling, and 1 dense layer:"
   ]
  },
  {
   "cell_type": "code",
   "execution_count": null,
   "metadata": {},
   "outputs": [],
   "source": [
    "model = tf.keras.Sequential([\n",
    "    tf.keras.layers.Conv2D(16, kernel_size=(3, 3), activation='relu', input_shape=(32, 32, 3)), # Convolutional layer 3x3 with a ReLu activation\n",
    "    tf.keras.layers.MaxPooling2D(pool_size=(2, 2), strides=2), # Max pooling 2x2\n",
    "    tf.keras.layers.Conv2D(32, kernel_size=(3, 3), activation='relu'), # Convolutional layer 3x3 with a ReLu activation\n",
    "    tf.keras.layers.MaxPooling2D(pool_size=(2, 2), strides=2), # Max pooling 2x2\n",
    "    tf.keras.layers.Conv2D(64, kernel_size=(3, 3), activation='relu'), # Convolutional layer 3x3 with a ReLu activation\n",
    "    tf.keras.layers.AveragePooling2D(pool_size=(2,2), strides=2), # Average pooling 2x2\n",
    "    tf.keras.layers.Flatten(),\n",
    "    tf.keras.layers.Dense(10) # number of outputs = 10 (10 classess)\n",
    "])"
   ]
  },
  {
   "cell_type": "markdown",
   "metadata": {},
   "source": [
    "#### 6) We compile the model. We use Adam optimiser, and a loss function SparseCategoricalCrossentropy (because it is a classification task):"
   ]
  },
  {
   "cell_type": "code",
   "execution_count": null,
   "metadata": {},
   "outputs": [],
   "source": [
    "model.compile(optimizer=tf.keras.optimizers.Adam(learning_rate=0.001),\n",
    "              loss=tf.keras.losses.SparseCategoricalCrossentropy(from_logits=True),\n",
    "              metrics=['accuracy'])\n",
    "model.summary()"
   ]
  },
  {
   "cell_type": "markdown",
   "metadata": {},
   "source": [
    "#### **Question 2: How many trainable parameters has the first convolutional layer?**"
   ]
  },
  {
   "attachments": {},
   "cell_type": "markdown",
   "metadata": {},
   "source": [
    "YOUR ANSWER: 26154"
   ]
  },
  {
   "cell_type": "markdown",
   "metadata": {},
   "source": [
    "#### **Question 3: How many trainable parameters have the pooling layers? Why?**"
   ]
  },
  {
   "attachments": {},
   "cell_type": "markdown",
   "metadata": {},
   "source": [
    "YOUR ANSWER: 0, because they don't have any weights\n",
    "\n",
    "<!-- Reference: https://towardsdatascience.com/understanding-and-calculating-the-number-of-parameters-in-convolution-neural-networks-cnns-fc88790d530d#:~:text=To%20calculate%20the%20learnable%20parameters,k%20in%20the%20current%20layer.  -->"
   ]
  },
  {
   "cell_type": "markdown",
   "metadata": {},
   "source": [
    "#### 7) Train the model"
   ]
  },
  {
   "cell_type": "code",
   "execution_count": null,
   "metadata": {},
   "outputs": [],
   "source": [
    "epochs = 15\n",
    "history = model.fit(train_images, train_labels, validation_data=[test_images, test_labels], epochs=epochs)"
   ]
  },
  {
   "cell_type": "markdown",
   "metadata": {},
   "source": [
    "#### 8) Evaluate the model"
   ]
  },
  {
   "cell_type": "code",
   "execution_count": null,
   "metadata": {},
   "outputs": [],
   "source": [
    "test_loss, test_acc = model.evaluate(test_images,  test_labels, verbose=2)\n",
    "\n",
    "print('\\nTest accuracy:', test_acc)"
   ]
  },
  {
   "cell_type": "code",
   "execution_count": null,
   "metadata": {},
   "outputs": [],
   "source": [
    "acc = history.history['accuracy']\n",
    "val_acc = history.history['val_accuracy']\n",
    "\n",
    "loss = history.history['loss']\n",
    "val_loss = history.history['val_loss']\n",
    "\n",
    "epochs_range = range(epochs)\n",
    "\n",
    "plt.figure(figsize=(8, 8))\n",
    "plt.subplot(1, 2, 1)\n",
    "plt.plot(epochs_range, acc, label='Training Accuracy')\n",
    "plt.plot(epochs_range, val_acc, label='Validation Accuracy')\n",
    "plt.legend(loc='lower right')\n",
    "plt.title('Training and Validation Accuracy')\n",
    "plt.xlabel('Epochs')\n",
    "plt.ylabel('Accuracy')\n",
    "\n",
    "plt.subplot(1, 2, 2)\n",
    "plt.plot(epochs_range, loss, label='Training Loss')\n",
    "plt.plot(epochs_range, val_loss, label='Validation Loss')\n",
    "plt.legend(loc='upper right')\n",
    "plt.title('Training and Validation Loss')\n",
    "plt.xlabel('Epochs')\n",
    "plt.ylabel('Loss')\n",
    "plt.show()"
   ]
  },
  {
   "cell_type": "markdown",
   "metadata": {},
   "source": [
    "#### 9) Get probabilities. For each test image will tell us the probability to belong to each of the 10 classes (i.e., for each test image will output an array of 10 values).\n",
    "Since our model returns the logits, we add a Softmax layer in order to convert logits to probabilities."
   ]
  },
  {
   "cell_type": "code",
   "execution_count": null,
   "metadata": {},
   "outputs": [],
   "source": [
    "probability_model = tf.keras.Sequential([model, \n",
    "                                         tf.keras.layers.Softmax()])\n",
    "probabilities = probability_model.predict(test_images)\n",
    "print('Size of variable probabilities: ' + str(probabilities.shape)) # You can see the size of the arrays here (10000, 10)\n",
    "print('Probabilities:')\n",
    "print(probabilities) # Returns an array of 10000 arrays with 10 probabilities each (one for each class)"
   ]
  },
  {
   "cell_type": "markdown",
   "metadata": {},
   "source": [
    "#### 10) Get predicted class\n",
    "For each image, we have a vector of 10 probabilities (1 for each possible class) that tells us the probability that that image belongs to the class. We now want to get the class with the highest probability. We use argmax to get the class with the highest probability"
   ]
  },
  {
   "cell_type": "code",
   "execution_count": null,
   "metadata": {},
   "outputs": [],
   "source": [
    "predictions = np.argmax(probabilities, axis = 1) # gets the maximum probability of each image (maximum value)\n",
    "\n",
    "print('Size of variable predictions: ' + str(predictions.shape)) # We now have one value (class) for each image.\n",
    "print('Predictions:')\n",
    "print(predictions)\n",
    "print('Labels:')\n",
    "print(test_labels)"
   ]
  },
  {
   "cell_type": "markdown",
   "metadata": {},
   "source": [
    "#### 11) Show the confusion matrix\n",
    "The confusion matrix is a matrix that shows for each class (labels) how many images where predicted in the correct or wrong class. The diagonal of the matrix shows the classes that where predicted correctly, the rest are errors. They are useful to know the classes in which the network gets 'confused'. Label is the original (true) label, so the correct class. Prediction is the predicted class by the network (which may be correct or incorrect)."
   ]
  },
  {
   "cell_type": "code",
   "execution_count": null,
   "metadata": {},
   "outputs": [],
   "source": [
    "def plot_confusion_matrix(actual, predicted, labels):\n",
    "  cm = tf.math.confusion_matrix(actual, predicted)\n",
    "  ax = sns.heatmap(cm, annot=True, fmt='g')\n",
    "  sns.set(rc={'figure.figsize':(7, 7)})\n",
    "  ax.set_title('Confusion matrix')\n",
    "  ax.set_xlabel('Prediction')\n",
    "  ax.set_ylabel('Label')\n",
    "  plt.xticks(rotation=90)\n",
    "  plt.yticks(rotation=0) \n",
    "  ax.xaxis.set_ticklabels(labels)\n",
    "  ax.yaxis.set_ticklabels(labels)\n",
    "\n",
    "plot_confusion_matrix(test_labels, predictions, class_names)"
   ]
  },
  {
   "cell_type": "markdown",
   "metadata": {},
   "source": [
    "#### **Question 4: How many images of airplanes where predicted correctly?**"
   ]
  },
  {
   "attachments": {},
   "cell_type": "markdown",
   "metadata": {},
   "source": [
    "YOUR ANSWER:766"
   ]
  },
  {
   "cell_type": "markdown",
   "metadata": {},
   "source": [
    "#### **Question 5: How many images of cats where predicted as frogs?**"
   ]
  },
  {
   "attachments": {},
   "cell_type": "markdown",
   "metadata": {},
   "source": [
    "YOUR ANSWER: 28"
   ]
  },
  {
   "cell_type": "markdown",
   "metadata": {},
   "source": [
    "#### **Question 6: Which are the 2 classes with the highest number of wrong predictions? i.e., the class that gets 'confused' most. Why do you think is that?**"
   ]
  },
  {
   "cell_type": "markdown",
   "metadata": {},
   "source": [
    "YOUR ANSWER:"
   ]
  },
  {
   "cell_type": "markdown",
   "metadata": {},
   "source": [
    "#### **OPTIONAL - Challenge**\n",
    "\n",
    "#### Use the code below to create a ResNet model and train it. Compare your results.\n",
    "<font color='red'>**NOTE**: Each epoch takes ~20 min to run.</font>\n"
   ]
  },
  {
   "cell_type": "code",
   "execution_count": null,
   "metadata": {},
   "outputs": [],
   "source": [
    "#train_labels_categorical = tf.keras.utils.to_categorical(train_labels)\n",
    "#test_labels_categorical = tf.keras.utils.to_categorical(test_labels)\n",
    "\n",
    "#print(train_labels_categorical.shape)\n",
    "#print(test_labels_categorical.shape)\n",
    "\n",
    "ResNet_model = tf.keras.applications.resnet50.ResNet50(include_top=False, weights=None, input_shape=(32, 32, 3), classes=10)\n",
    "ResNet_model.compile(optimizer=tf.keras.optimizers.Adam(learning_rate=0.00001),\n",
    "              loss=tf.keras.losses.SparseCategoricalCrossentropy(from_logits=True),\n",
    "              metrics=['accuracy'])\n",
    "#ResNet_model.summary()\n",
    "epochs_resnet = 10\n",
    "history = ResNet_model.fit(train_images, train_labels, validation_data=[test_images, test_labels], batch_size=128, epochs=epochs_resnet)"
   ]
  }
 ],
 "metadata": {
  "kernelspec": {
   "display_name": "FYP",
   "language": "python",
   "name": "python3"
  },
  "language_info": {
   "codemirror_mode": {
    "name": "ipython",
    "version": 3
   },
   "file_extension": ".py",
   "mimetype": "text/x-python",
   "name": "python",
   "nbconvert_exporter": "python",
   "pygments_lexer": "ipython3",
   "version": "3.9.13"
  },
  "vscode": {
   "interpreter": {
    "hash": "f4f22379b8d6ca0aaa5e64d2ebfc1657349199a8adce4ccf73ce577bcea6099a"
   }
  }
 },
 "nbformat": 4,
 "nbformat_minor": 4
}
